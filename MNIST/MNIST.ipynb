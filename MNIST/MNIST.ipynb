{
 "cells": [
  {
   "cell_type": "code",
   "execution_count": 1,
   "metadata": {
    "collapsed": true
   },
   "outputs": [],
   "source": [
    "import numpy as np\n",
    "import tensorflow as tf\n",
    "import tensorflow_datasets as tfds"
   ]
  },
  {
   "cell_type": "code",
   "execution_count": 2,
   "outputs": [],
   "source": [
    "mnist_dataset, mnist_info = tfds.load(name='mnist', as_supervised=True, with_info=True)"
   ],
   "metadata": {
    "collapsed": false,
    "pycharm": {
     "name": "#%%\n"
    }
   }
  },
  {
   "cell_type": "code",
   "execution_count": 3,
   "outputs": [
    {
     "data": {
      "text/plain": "{'train': <PrefetchDataset shapes: ((28, 28, 1), ()), types: (tf.uint8, tf.int64)>,\n 'test': <PrefetchDataset shapes: ((28, 28, 1), ()), types: (tf.uint8, tf.int64)>}"
     },
     "execution_count": 3,
     "metadata": {},
     "output_type": "execute_result"
    }
   ],
   "source": [
    "mnist_dataset"
   ],
   "metadata": {
    "collapsed": false,
    "pycharm": {
     "name": "#%%\n"
    }
   }
  },
  {
   "cell_type": "code",
   "execution_count": 4,
   "outputs": [
    {
     "data": {
      "text/plain": "tfds.core.DatasetInfo(\n    name='mnist',\n    full_name='mnist/3.0.1',\n    description=\"\"\"\n    The MNIST database of handwritten digits.\n    \"\"\",\n    homepage='http://yann.lecun.com/exdb/mnist/',\n    data_path='C:\\\\Users\\\\jangd\\\\tensorflow_datasets\\\\mnist\\\\3.0.1',\n    download_size=11.06 MiB,\n    dataset_size=21.00 MiB,\n    features=FeaturesDict({\n        'image': Image(shape=(28, 28, 1), dtype=tf.uint8),\n        'label': ClassLabel(shape=(), dtype=tf.int64, num_classes=10),\n    }),\n    supervised_keys=('image', 'label'),\n    disable_shuffling=False,\n    splits={\n        'test': <SplitInfo num_examples=10000, num_shards=1>,\n        'train': <SplitInfo num_examples=60000, num_shards=1>,\n    },\n    citation=\"\"\"@article{lecun2010mnist,\n      title={MNIST handwritten digit database},\n      author={LeCun, Yann and Cortes, Corinna and Burges, CJ},\n      journal={ATT Labs [Online]. Available: http://yann.lecun.com/exdb/mnist},\n      volume={2},\n      year={2010}\n    }\"\"\",\n)"
     },
     "execution_count": 4,
     "metadata": {},
     "output_type": "execute_result"
    }
   ],
   "source": [
    "mnist_info"
   ],
   "metadata": {
    "collapsed": false,
    "pycharm": {
     "name": "#%%\n"
    }
   }
  },
  {
   "cell_type": "code",
   "execution_count": 5,
   "outputs": [],
   "source": [
    "mnist_train, mnist_test = mnist_dataset['train'], mnist_dataset['test']\n"
   ],
   "metadata": {
    "collapsed": false,
    "pycharm": {
     "name": "#%%\n"
    }
   }
  },
  {
   "cell_type": "code",
   "execution_count": 6,
   "outputs": [],
   "source": [
    "num_validation_samples = 0.1 * mnist_info.splits['train'].num_examples"
   ],
   "metadata": {
    "collapsed": false,
    "pycharm": {
     "name": "#%%\n"
    }
   }
  },
  {
   "cell_type": "code",
   "execution_count": 7,
   "outputs": [],
   "source": [
    "num_validation_samples = tf.cast(num_validation_samples, tf.int64)"
   ],
   "metadata": {
    "collapsed": false,
    "pycharm": {
     "name": "#%%\n"
    }
   }
  },
  {
   "cell_type": "code",
   "execution_count": 8,
   "outputs": [],
   "source": [
    "num_test_samples = mnist_info.splits['test'].num_examples"
   ],
   "metadata": {
    "collapsed": false,
    "pycharm": {
     "name": "#%%\n"
    }
   }
  },
  {
   "cell_type": "code",
   "execution_count": 9,
   "outputs": [],
   "source": [
    "num_test_samples = tf.cast(num_test_samples, tf.int64)"
   ],
   "metadata": {
    "collapsed": false,
    "pycharm": {
     "name": "#%%\n"
    }
   }
  },
  {
   "cell_type": "code",
   "execution_count": 10,
   "outputs": [],
   "source": [
    "def scale(image, label):\n",
    "    image = tf.cast(image, tf.float32)\n",
    "    image /= 255.\n",
    "    return image, label\n"
   ],
   "metadata": {
    "collapsed": false,
    "pycharm": {
     "name": "#%%\n"
    }
   }
  },
  {
   "cell_type": "code",
   "execution_count": 11,
   "outputs": [],
   "source": [
    "scaled_train_and_validation_data = mnist_train.map(scale)"
   ],
   "metadata": {
    "collapsed": false,
    "pycharm": {
     "name": "#%%\n"
    }
   }
  },
  {
   "cell_type": "code",
   "execution_count": 12,
   "outputs": [],
   "source": [
    "test_data = mnist_test.map(scale)"
   ],
   "metadata": {
    "collapsed": false,
    "pycharm": {
     "name": "#%%\n"
    }
   }
  },
  {
   "cell_type": "code",
   "execution_count": 13,
   "outputs": [],
   "source": [
    "BUFFER_SIZE = 10000"
   ],
   "metadata": {
    "collapsed": false,
    "pycharm": {
     "name": "#%%\n"
    }
   }
  },
  {
   "cell_type": "code",
   "execution_count": 14,
   "outputs": [],
   "source": [
    "shuffled_trained_and_validation_data = scaled_train_and_validation_data.shuffle(BUFFER_SIZE)"
   ],
   "metadata": {
    "collapsed": false,
    "pycharm": {
     "name": "#%%\n"
    }
   }
  },
  {
   "cell_type": "code",
   "execution_count": 15,
   "outputs": [],
   "source": [
    "validation_data = shuffled_trained_and_validation_data.take(num_validation_samples)"
   ],
   "metadata": {
    "collapsed": false,
    "pycharm": {
     "name": "#%%\n"
    }
   }
  },
  {
   "cell_type": "code",
   "execution_count": 16,
   "outputs": [],
   "source": [
    "train_data = shuffled_trained_and_validation_data.skip(num_validation_samples)"
   ],
   "metadata": {
    "collapsed": false,
    "pycharm": {
     "name": "#%%\n"
    }
   }
  },
  {
   "cell_type": "code",
   "execution_count": 17,
   "outputs": [],
   "source": [
    "BATCH_SIZE = 100\n",
    "train_data = train_data.batch(BATCH_SIZE)"
   ],
   "metadata": {
    "collapsed": false,
    "pycharm": {
     "name": "#%%\n"
    }
   }
  },
  {
   "cell_type": "code",
   "execution_count": 18,
   "outputs": [],
   "source": [
    "validation_data = validation_data.batch(num_validation_samples)"
   ],
   "metadata": {
    "collapsed": false,
    "pycharm": {
     "name": "#%%\n"
    }
   }
  },
  {
   "cell_type": "code",
   "execution_count": 19,
   "outputs": [],
   "source": [
    "test_data = test_data.batch(num_test_samples)"
   ],
   "metadata": {
    "collapsed": false,
    "pycharm": {
     "name": "#%%\n"
    }
   }
  },
  {
   "cell_type": "code",
   "execution_count": 20,
   "outputs": [],
   "source": [
    "model = tf.keras.Sequential([\n",
    "    tf.keras.layers.Flatten(input_shape=(28, 28, 1)),\n",
    "    tf.keras.layers.Dense(units=50, activation='relu'),\n",
    "    tf.keras.layers.Dense(units=50, activation='relu'),\n",
    "    tf.keras.layers.Dense(units=10, activation='softmax')\n",
    "])"
   ],
   "metadata": {
    "collapsed": false,
    "pycharm": {
     "name": "#%%\n"
    }
   }
  },
  {
   "cell_type": "code",
   "execution_count": 21,
   "outputs": [],
   "source": [
    "model.compile(optimizer='adam', loss='sparse_categorical_crossentropy', metrics=['accuracy'])"
   ],
   "metadata": {
    "collapsed": false,
    "pycharm": {
     "name": "#%%\n"
    }
   }
  },
  {
   "cell_type": "code",
   "execution_count": 22,
   "outputs": [],
   "source": [
    "validation_inputs, validation_targets = next(iter(validation_data))"
   ],
   "metadata": {
    "collapsed": false,
    "pycharm": {
     "name": "#%%\n"
    }
   }
  },
  {
   "cell_type": "code",
   "execution_count": 23,
   "outputs": [],
   "source": [
    "early_stopping = tf.keras.callbacks.EarlyStopping(patience=2)"
   ],
   "metadata": {
    "collapsed": false,
    "pycharm": {
     "name": "#%%\n"
    }
   }
  },
  {
   "cell_type": "code",
   "execution_count": 24,
   "outputs": [
    {
     "name": "stdout",
     "output_type": "stream",
     "text": [
      "Epoch 1/50\n",
      "540/540 - 9s - loss: 0.4091 - accuracy: 0.8838 - val_loss: 0.2117 - val_accuracy: 0.9372\n",
      "Epoch 2/50\n",
      "540/540 - 5s - loss: 0.1857 - accuracy: 0.9453 - val_loss: 0.1526 - val_accuracy: 0.9542\n",
      "Epoch 3/50\n",
      "540/540 - 4s - loss: 0.1421 - accuracy: 0.9584 - val_loss: 0.1239 - val_accuracy: 0.9637\n",
      "Epoch 4/50\n",
      "540/540 - 5s - loss: 0.1152 - accuracy: 0.9661 - val_loss: 0.1065 - val_accuracy: 0.9703\n",
      "Epoch 5/50\n",
      "540/540 - 5s - loss: 0.1005 - accuracy: 0.9700 - val_loss: 0.1003 - val_accuracy: 0.9715\n",
      "Epoch 6/50\n",
      "540/540 - 4s - loss: 0.0864 - accuracy: 0.9736 - val_loss: 0.0935 - val_accuracy: 0.9730\n",
      "Epoch 7/50\n",
      "540/540 - 4s - loss: 0.0764 - accuracy: 0.9768 - val_loss: 0.0895 - val_accuracy: 0.9725\n",
      "Epoch 8/50\n",
      "540/540 - 4s - loss: 0.0674 - accuracy: 0.9796 - val_loss: 0.0921 - val_accuracy: 0.9727\n",
      "Epoch 9/50\n",
      "540/540 - 5s - loss: 0.0627 - accuracy: 0.9806 - val_loss: 0.0740 - val_accuracy: 0.9778\n",
      "Epoch 10/50\n",
      "540/540 - 5s - loss: 0.0551 - accuracy: 0.9834 - val_loss: 0.0799 - val_accuracy: 0.9753\n",
      "Epoch 11/50\n",
      "540/540 - 5s - loss: 0.0509 - accuracy: 0.9848 - val_loss: 0.0666 - val_accuracy: 0.9792\n",
      "Epoch 12/50\n",
      "540/540 - 6s - loss: 0.0453 - accuracy: 0.9864 - val_loss: 0.0664 - val_accuracy: 0.9803\n",
      "Epoch 13/50\n",
      "540/540 - 7s - loss: 0.0413 - accuracy: 0.9873 - val_loss: 0.0535 - val_accuracy: 0.9848\n",
      "Epoch 14/50\n",
      "540/540 - 6s - loss: 0.0371 - accuracy: 0.9886 - val_loss: 0.0484 - val_accuracy: 0.9865\n",
      "Epoch 15/50\n",
      "540/540 - 6s - loss: 0.0347 - accuracy: 0.9895 - val_loss: 0.0512 - val_accuracy: 0.9850\n",
      "Epoch 16/50\n",
      "540/540 - 7s - loss: 0.0329 - accuracy: 0.9899 - val_loss: 0.0459 - val_accuracy: 0.9850\n",
      "Epoch 17/50\n",
      "540/540 - 7s - loss: 0.0277 - accuracy: 0.9913 - val_loss: 0.0452 - val_accuracy: 0.9863\n",
      "Epoch 18/50\n",
      "540/540 - 7s - loss: 0.0270 - accuracy: 0.9920 - val_loss: 0.0386 - val_accuracy: 0.9888\n",
      "Epoch 19/50\n",
      "540/540 - 7s - loss: 0.0232 - accuracy: 0.9928 - val_loss: 0.0397 - val_accuracy: 0.9895\n",
      "Epoch 20/50\n",
      "540/540 - 7s - loss: 0.0242 - accuracy: 0.9927 - val_loss: 0.0332 - val_accuracy: 0.9895\n",
      "Epoch 21/50\n",
      "540/540 - 7s - loss: 0.0210 - accuracy: 0.9936 - val_loss: 0.0310 - val_accuracy: 0.9907\n",
      "Epoch 22/50\n",
      "540/540 - 7s - loss: 0.0179 - accuracy: 0.9945 - val_loss: 0.0316 - val_accuracy: 0.9913\n",
      "Epoch 23/50\n",
      "540/540 - 7s - loss: 0.0180 - accuracy: 0.9945 - val_loss: 0.0273 - val_accuracy: 0.9910\n",
      "Epoch 24/50\n",
      "540/540 - 7s - loss: 0.0157 - accuracy: 0.9952 - val_loss: 0.0237 - val_accuracy: 0.9927\n",
      "Epoch 25/50\n",
      "540/540 - 6s - loss: 0.0145 - accuracy: 0.9953 - val_loss: 0.0250 - val_accuracy: 0.9922\n",
      "Epoch 26/50\n",
      "540/540 - 6s - loss: 0.0143 - accuracy: 0.9954 - val_loss: 0.0212 - val_accuracy: 0.9942\n",
      "Epoch 27/50\n",
      "540/540 - 6s - loss: 0.0131 - accuracy: 0.9959 - val_loss: 0.0121 - val_accuracy: 0.9967\n",
      "Epoch 28/50\n",
      "540/540 - 6s - loss: 0.0116 - accuracy: 0.9966 - val_loss: 0.0176 - val_accuracy: 0.9947\n",
      "Epoch 29/50\n",
      "540/540 - 7s - loss: 0.0118 - accuracy: 0.9961 - val_loss: 0.0210 - val_accuracy: 0.9937\n"
     ]
    },
    {
     "data": {
      "text/plain": "<tensorflow.python.keras.callbacks.History at 0x1a94249acd0>"
     },
     "execution_count": 24,
     "metadata": {},
     "output_type": "execute_result"
    }
   ],
   "source": [
    "model.fit(train_data, epochs=50, validation_data=(validation_inputs, validation_targets), verbose=2, callbacks=[early_stopping])"
   ],
   "metadata": {
    "collapsed": false,
    "pycharm": {
     "name": "#%%\n"
    }
   }
  },
  {
   "cell_type": "code",
   "execution_count": 26,
   "outputs": [
    {
     "name": "stdout",
     "output_type": "stream",
     "text": [
      "1/1 [==============================] - 1s 1s/step - loss: 0.1220 - accuracy: 0.9721\b\b\b\b\b\b\b\b\b\b\b\b\b\b\b\b\b\b\b\b\b\b\b\b\b\b\b\b\b\b\b\b\b\b\b\b\b\b\b\b\b\b\b\b\b\b\b\b\b\b\b\b\b\b\b\b\b\b\b\b\b\b\b\b\b\b\b\b\b\b\b\b\b\b\b\b\b\n"
     ]
    }
   ],
   "source": [
    "test_loss, test_accuracy = model.evaluate(test_data)"
   ],
   "metadata": {
    "collapsed": false,
    "pycharm": {
     "name": "#%%\n"
    }
   }
  },
  {
   "cell_type": "code",
   "execution_count": 27,
   "outputs": [
    {
     "data": {
      "text/plain": "0.12196633219718933"
     },
     "execution_count": 27,
     "metadata": {},
     "output_type": "execute_result"
    }
   ],
   "source": [
    "test_loss"
   ],
   "metadata": {
    "collapsed": false,
    "pycharm": {
     "name": "#%%\n"
    }
   }
  },
  {
   "cell_type": "code",
   "execution_count": 28,
   "outputs": [
    {
     "data": {
      "text/plain": "0.972100019454956"
     },
     "execution_count": 28,
     "metadata": {},
     "output_type": "execute_result"
    }
   ],
   "source": [
    "test_accuracy"
   ],
   "metadata": {
    "collapsed": false,
    "pycharm": {
     "name": "#%%\n"
    }
   }
  },
  {
   "cell_type": "code",
   "execution_count": null,
   "outputs": [],
   "source": [],
   "metadata": {
    "collapsed": false,
    "pycharm": {
     "name": "#%%\n"
    }
   }
  }
 ],
 "metadata": {
  "kernelspec": {
   "display_name": "Python 3",
   "language": "python",
   "name": "python3"
  },
  "language_info": {
   "codemirror_mode": {
    "name": "ipython",
    "version": 2
   },
   "file_extension": ".py",
   "mimetype": "text/x-python",
   "name": "python",
   "nbconvert_exporter": "python",
   "pygments_lexer": "ipython2",
   "version": "2.7.6"
  }
 },
 "nbformat": 4,
 "nbformat_minor": 0
}